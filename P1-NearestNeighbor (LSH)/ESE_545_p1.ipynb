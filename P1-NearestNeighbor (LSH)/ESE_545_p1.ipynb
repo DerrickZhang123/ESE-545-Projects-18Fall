{
 "cells": [
  {
   "cell_type": "code",
   "execution_count": 1,
   "metadata": {},
   "outputs": [],
   "source": [
    "import numpy as np\n",
    "import pandas as pd\n",
    "import hashlib\n",
    "import matplotlib.pyplot as plt"
   ]
  },
  {
   "cell_type": "markdown",
   "metadata": {},
   "source": [
    "# Problem 1"
   ]
  },
  {
   "cell_type": "code",
   "execution_count": 9,
   "metadata": {},
   "outputs": [],
   "source": [
    "mainPath = \"C:\\\\Users\\\\nizhe\\\\Desktop\\\\ESE-545\\\\Projects\\\\P1\\\\Netflix_data.txt\""
   ]
  },
  {
   "cell_type": "code",
   "execution_count": 10,
   "metadata": {},
   "outputs": [],
   "source": [
    "# Drop all the ratings that below 3\n",
    "def dropRatingsBelow3 (original_df):\n",
    "#     result_df = original_df[original_df['Rating'] > 3]\n",
    "    result_df = original_df[(original_df['Rating'] != 1) & (original_df['Rating'] != 2)]\n",
    "    return result_df"
   ]
  },
  {
   "cell_type": "code",
   "execution_count": 11,
   "metadata": {},
   "outputs": [],
   "source": [
    "# Drop the users who still have more than 20 ratings\n",
    "def dropUsersAbove20 (selected_df_0):\n",
    "    users_df = selected_df_0.groupby('User_id').count().reset_index().rename(columns = {'Rating' : 'count'})\n",
    "    users_df = users_df[users_df['count'] > 20]\n",
    "    selected_df = selected_df_0.set_index('User_id').drop(list(users_df['User_id'])).reset_index()\n",
    "    return selected_df"
   ]
  },
  {
   "cell_type": "code",
   "execution_count": 12,
   "metadata": {},
   "outputs": [],
   "source": [
    "def mainP1(mainPath):\n",
    "    \n",
    "    # Read in file\n",
    "    original_df = pd.read_csv(mainPath, names = ['User_id', 'Rating', 'Date']).drop('Date', axis = 1)\n",
    "    \n",
    "    # Those value == 100 are movie_id rows \n",
    "    original_df.fillna(value = 100, inplace = True)\n",
    "    \n",
    "    # drop <3 and >20\n",
    "    selected_df_0 = dropRatingsBelow3(original_df)\n",
    "    selected_df = dropUsersAbove20(selected_df_0) # those rows with Rating 100 is the movie_id\n",
    "    \n",
    "    # get total movie and user number\n",
    "    movieNum = len(selected_df[selected_df['Rating'] == 100])\n",
    "    users = list(selected_df[selected_df['Rating'] != 100].groupby('User_id').count().reset_index()['User_id'].astype(int)) # a list contains all the selected users' id\n",
    "    userNum = len(users)\n",
    "    \n",
    "    return selected_df, users, movieNum, userNum"
   ]
  },
  {
   "cell_type": "code",
   "execution_count": 13,
   "metadata": {},
   "outputs": [],
   "source": [
    "def getMatrix(selected_df, users, movieNum, userNum):\n",
    "    final = np.zeros((movieNum, userNum))\n",
    "    movie_id = 0\n",
    "    for index, row in selected_df.iterrows():\n",
    "        if row['Rating'] == 100:\n",
    "            movie_id += 1\n",
    "            continue\n",
    "        final[movie_id - 1, users.index(int(row['User_id']))] = 1\n",
    "    \n",
    "    return final"
   ]
  },
  {
   "cell_type": "code",
   "execution_count": 14,
   "metadata": {},
   "outputs": [],
   "source": [
    "# After running the main function, we have the selected dataframe (drop the ratings below 3 and the users who rated more than 20)\n",
    "# users is a list, containing all the selected users' id. We will then use the index of each id later, so this list serves as a hashmap.\n",
    "selected_df, users, movieNum, userNum = mainP1(mainPath)"
   ]
  },
  {
   "cell_type": "code",
   "execution_count": null,
   "metadata": {},
   "outputs": [],
   "source": [
    "# get the final matrix, with rows of movie_id and columns of user_id (the index in the users above)\n",
    "final = getMatrix(selected_df, users, movieNum, userNum)"
   ]
  },
  {
   "cell_type": "markdown",
   "metadata": {},
   "source": [
    "# Problem 2"
   ]
  },
  {
   "cell_type": "code",
   "execution_count": 7,
   "metadata": {},
   "outputs": [],
   "source": [
    "def jaccardDistance(list1, list2):\n",
    "    arr = np.array([list1, list2]).T\n",
    "    union = len(arr[arr.sum(axis = 1) > 0])\n",
    "    intersect = len(arr[arr.sum(axis = 1) == 2])\n",
    "    \n",
    "    return 1 - intersect / union"
   ]
  },
  {
   "cell_type": "code",
   "execution_count": 18,
   "metadata": {},
   "outputs": [],
   "source": [
    "distance = []\n",
    "for i in range(10000):\n",
    "    a = np.random.randint(0,userNum)\n",
    "    b = np.random.randint(0,userNum)\n",
    "\n",
    "    list1 = final[:,a]\n",
    "    list2 = final[:,b]\n",
    "\n",
    "    distance.append(jaccardDistance(list1, list2))"
   ]
  },
  {
   "cell_type": "code",
   "execution_count": 19,
   "metadata": {},
   "outputs": [
    {
     "data": {
      "text/plain": [
       "Text(0,0.5,'Count')"
      ]
     },
     "execution_count": 19,
     "metadata": {},
     "output_type": "execute_result"
    },
    {
     "data": {
      "image/png": "[encoded data removed]",
      "text/plain": [
       "<Figure size 432x288 with 1 Axes>"
      ]
     },
     "metadata": {},
     "output_type": "display_data"
    }
   ],
   "source": [
    "plt.hist(distance, bins= 50)  \n",
    "plt.title(\"Pairwise Jaccard distance histogram\")\n",
    "plt.xlabel('Jaccard distance')\n",
    "plt.ylabel('Count')"
   ]
  },
  {
   "cell_type": "markdown",
   "metadata": {},
   "source": [
    "# Problem 3"
   ]
  },
  {
   "cell_type": "code",
   "execution_count": 240,
   "metadata": {},
   "outputs": [],
   "source": [
    "hashNum = 60\n",
    "nextPrime = 4507"
   ]
  },
  {
   "cell_type": "code",
   "execution_count": 241,
   "metadata": {},
   "outputs": [],
   "source": [
    "# This function returns a signature matrix, and all the hash functions we used (the parameters of each are stored in hash_func, which is an np array).\n",
    "def getSignatureMatrix(final, movieNum, userNum):\n",
    "    \n",
    "    # generate full np array as an initial signature matrix\n",
    "    sig_mat = np.full((hashNum, userNum), movieNum + 1)\n",
    "    \n",
    "    # params for each hash function \n",
    "    hash_func = np.random.randint(0, nextPrime, (hashNum, 2))\n",
    "    \n",
    "    for i in range(len(users)):    \n",
    "        for index in range(movieNum):\n",
    "            if final[index,i] == 1:\n",
    "                for j in range(0,hashNum):\n",
    "                    sig_mat[j,i] = min((hash_func[j,0] * index + hash_func[j,1]) % movieNum, sig_mat[j,i])\n",
    "                    \n",
    "    return sig_mat, hash_func"
   ]
  },
  {
   "cell_type": "code",
   "execution_count": 242,
   "metadata": {},
   "outputs": [],
   "source": [
    "sig_mat, hash_func = getSignatureMatrix(final, movieNum, userNum)"
   ]
  },
  {
   "cell_type": "code",
   "execution_count": 264,
   "metadata": {},
   "outputs": [
    {
     "data": {
      "text/plain": [
       "array([[ 973,   99, 1040, ...,  592,  439,   86],\n",
       "       [3028,  427,  427, ...,   69,  499,   60],\n",
       "       [3258,   14, 2263, ...,  782,  361,  431],\n",
       "       ...,\n",
       "       [3738,  137,  503, ...,  524,  188,  224],\n",
       "       [4416,  188, 2104, ...,  232,    9,  406],\n",
       "       [2671,   37,   37, ...,  639,  120,  207]])"
      ]
     },
     "execution_count": 264,
     "metadata": {},
     "output_type": "execute_result"
    }
   ],
   "source": [
    "sig_mat"
   ]
  },
  {
   "cell_type": "code",
   "execution_count": 243,
   "metadata": {},
   "outputs": [],
   "source": [
    "def getHashBuckets(sig_mat, r, userNum, users):\n",
    "\n",
    "    i = 0\n",
    "    hashBuckets = []\n",
    "    while i < (hashNum / r):\n",
    "        \n",
    "        bucket = {}\n",
    "\n",
    "        for j in range(0, userNum):\n",
    "            \n",
    "            # hash each band\n",
    "            band = str(sig_mat[r*i: r*i + r, j])        \n",
    "            tag = hash(band)\n",
    "\n",
    "            \n",
    "            if tag not in bucket:\n",
    "\n",
    "                bucket[tag] = dict()\n",
    "                bucket[tag][j]=final[:,j]\n",
    "\n",
    "            else:\n",
    "                bucket[tag][j]=final[:,j]\n",
    "\n",
    "        hashBuckets.append(bucket)\n",
    "        i += 1\n",
    "    \n",
    "    return hashBuckets\n",
    "    "
   ]
  },
  {
   "cell_type": "code",
   "execution_count": 244,
   "metadata": {},
   "outputs": [],
   "source": [
    "hashBuckets = getHashBuckets(sig_mat, 4, userNum, users)"
   ]
  },
  {
   "cell_type": "markdown",
   "metadata": {},
   "source": [
    "# Problem 4"
   ]
  },
  {
   "cell_type": "code",
   "execution_count": 373,
   "metadata": {},
   "outputs": [
    {
     "ename": "KeyboardInterrupt",
     "evalue": "",
     "output_type": "error",
     "traceback": [
      "\u001b[1;31m---------------------------------------------------------------------------\u001b[0m",
      "\u001b[1;31mKeyboardInterrupt\u001b[0m                         Traceback (most recent call last)",
      "\u001b[1;32m<ipython-input-373-4da8379ad849>\u001b[0m in \u001b[0;36m<module>\u001b[1;34m()\u001b[0m\n\u001b[0;32m     15\u001b[0m                 \u001b[1;32mif\u001b[0m \u001b[1;33m(\u001b[0m\u001b[0muser1\u001b[0m \u001b[1;33m>\u001b[0m \u001b[0muser2\u001b[0m\u001b[1;33m)\u001b[0m\u001b[1;33m:\u001b[0m\u001b[1;33m\u001b[0m\u001b[0m\n\u001b[0;32m     16\u001b[0m \u001b[1;33m\u001b[0m\u001b[0m\n\u001b[1;32m---> 17\u001b[1;33m                     \u001b[1;32mif\u001b[0m \u001b[0mjaccardDistance\u001b[0m\u001b[1;33m(\u001b[0m\u001b[0mi\u001b[0m\u001b[1;33m[\u001b[0m\u001b[0mk\u001b[0m\u001b[1;33m]\u001b[0m\u001b[1;33m[\u001b[0m\u001b[0muser1\u001b[0m\u001b[1;33m]\u001b[0m\u001b[1;33m,\u001b[0m \u001b[0mi\u001b[0m\u001b[1;33m[\u001b[0m\u001b[0mk\u001b[0m\u001b[1;33m]\u001b[0m\u001b[1;33m[\u001b[0m\u001b[0muser2\u001b[0m\u001b[1;33m]\u001b[0m\u001b[1;33m)\u001b[0m \u001b[1;33m<\u001b[0m \u001b[1;36m0.35\u001b[0m\u001b[1;33m:\u001b[0m\u001b[1;33m\u001b[0m\u001b[0m\n\u001b[0m\u001b[0;32m     18\u001b[0m \u001b[1;33m\u001b[0m\u001b[0m\n\u001b[0;32m     19\u001b[0m                         \u001b[0mpairs\u001b[0m\u001b[1;33m.\u001b[0m\u001b[0madd\u001b[0m\u001b[1;33m(\u001b[0m\u001b[1;33m(\u001b[0m\u001b[0muser1\u001b[0m\u001b[1;33m,\u001b[0m \u001b[0muser2\u001b[0m\u001b[1;33m)\u001b[0m\u001b[1;33m)\u001b[0m\u001b[1;33m\u001b[0m\u001b[0m\n",
      "\u001b[1;32m<ipython-input-111-4aeec06ef2dd>\u001b[0m in \u001b[0;36mjaccardDistance\u001b[1;34m(list1, list2)\u001b[0m\n\u001b[0;32m      6\u001b[0m     \u001b[0mintersect\u001b[0m \u001b[1;33m=\u001b[0m \u001b[1;36m0\u001b[0m\u001b[1;33m\u001b[0m\u001b[0m\n\u001b[0;32m      7\u001b[0m     \u001b[1;32mwhile\u001b[0m \u001b[1;33m(\u001b[0m\u001b[0mptr1\u001b[0m \u001b[1;33m<\u001b[0m \u001b[0mlen1\u001b[0m \u001b[1;32mand\u001b[0m \u001b[0mptr2\u001b[0m \u001b[1;33m<\u001b[0m \u001b[0mlen2\u001b[0m\u001b[1;33m)\u001b[0m\u001b[1;33m:\u001b[0m\u001b[1;33m\u001b[0m\u001b[0m\n\u001b[1;32m----> 8\u001b[1;33m         \u001b[0mdiff\u001b[0m \u001b[1;33m=\u001b[0m \u001b[0mlist1\u001b[0m\u001b[1;33m[\u001b[0m\u001b[0mptr1\u001b[0m\u001b[1;33m]\u001b[0m\u001b[1;33m-\u001b[0m\u001b[0mlist2\u001b[0m\u001b[1;33m[\u001b[0m\u001b[0mptr2\u001b[0m\u001b[1;33m]\u001b[0m\u001b[1;33m\u001b[0m\u001b[0m\n\u001b[0m\u001b[0;32m      9\u001b[0m         \u001b[1;32mif\u001b[0m \u001b[1;33m(\u001b[0m\u001b[0mdiff\u001b[0m \u001b[1;33m==\u001b[0m \u001b[1;36m0\u001b[0m\u001b[1;33m)\u001b[0m\u001b[1;33m:\u001b[0m\u001b[1;33m\u001b[0m\u001b[0m\n\u001b[0;32m     10\u001b[0m             \u001b[0mintersect\u001b[0m \u001b[1;33m+=\u001b[0m \u001b[1;36m1\u001b[0m\u001b[1;33m\u001b[0m\u001b[0m\n",
      "\u001b[1;31mKeyboardInterrupt\u001b[0m: "
     ]
    }
   ],
   "source": [
    "pairs = set()\n",
    "for i in hashBuckets:\n",
    "    # i is a dict, {hash_value : {user_id : array, user_id : array}}\n",
    "    \n",
    "\n",
    "    for k in i.keys():\n",
    "\n",
    "        if len(i[k]) == 1:\n",
    "            continue\n",
    "\n",
    "        # i[k] is a dict, {user_id : array, user_id : array}\n",
    "        for user1 in i[k].keys():\n",
    "\n",
    "            for user2 in i[k].keys():\n",
    "\n",
    "                if (user1 > user2):\n",
    "\n",
    "                    if jaccardDistance(i[k][user1], i[k][user2]) < 0.35:\n",
    "\n",
    "                        pairs.add((user1, user2))                           "
   ]
  },
  {
   "cell_type": "code",
   "execution_count": 374,
   "metadata": {},
   "outputs": [
    {
     "data": {
      "text/plain": [
       "2165248"
      ]
     },
     "execution_count": 374,
     "metadata": {},
     "output_type": "execute_result"
    }
   ],
   "source": [
    "len(pairs)"
   ]
  },
  {
   "cell_type": "code",
   "execution_count": 381,
   "metadata": {},
   "outputs": [],
   "source": [
    "# export the pairs\n",
    "f = open('pairs.txt','w') \n",
    "for s in pairs:\n",
    "    f.write(str(s))\n",
    "f.close()"
   ]
  },
  {
   "cell_type": "markdown",
   "metadata": {},
   "source": [
    "# Problem 5"
   ]
  },
  {
   "cell_type": "code",
   "execution_count": 345,
   "metadata": {},
   "outputs": [],
   "source": [
    "# # This function is used to generate a test data, a queried user\n",
    "# def getTest(movieNum, numOfOnes):\n",
    "#     test = np.zeros(movieNum)\n",
    "#     loc = np.random.randint(0, movieNum, numOfOnes)\n",
    "#     for i in loc:\n",
    "#         test[i] = 1\n",
    "#     return test"
   ]
  },
  {
   "cell_type": "code",
   "execution_count": 353,
   "metadata": {},
   "outputs": [],
   "source": [
    "# get a queried user\n",
    "test = final[:, 100]"
   ]
  },
  {
   "cell_type": "code",
   "execution_count": 354,
   "metadata": {},
   "outputs": [],
   "source": [
    "# This function uses for generating the hash values of the queried user.\n",
    "# For further comparison with the current hashBuckets\n",
    "def getTagList(test, hash_func):\n",
    "    tag_list = []\n",
    "    sig = np.full((hashNum, 1), movieNum + 1)\n",
    "    for i in range(len(test)):\n",
    "        if test[i] == 1:\n",
    "            for h in range(hashNum):\n",
    "                sig[h, 0] = min((hash_func[h, 0] * i + hash_func[h, 1]) % movieNum , sig[h, 0])  \n",
    "                \n",
    "    j = 0\n",
    "    \n",
    "    while j < hashNum:\n",
    "        \n",
    "        tag_list.append(hash(str(sig[j : j + 4, 0])))\n",
    "        j += 4\n",
    "    \n",
    "    return tag_list"
   ]
  },
  {
   "cell_type": "code",
   "execution_count": 360,
   "metadata": {},
   "outputs": [],
   "source": [
    "def getNearestNeighbor(hashBuckets, tag_list, test):\n",
    "    \n",
    "    # result is a dict with all that hash values in the bucket\n",
    "    result = dict()\n",
    "    for i in tag_list:\n",
    "        for hb in hashBuckets:\n",
    "            if i in hb:\n",
    "                result.update(hb[i])\n",
    "            else:\n",
    "                continue\n",
    "    \n",
    "    if len(result) == 0:\n",
    "        return np.random.randint(1, 4499)\n",
    "    \n",
    "    # traverse all elements in the bucket and calculate the Jaccard Distance\n",
    "    cur = 0\n",
    "    dis_min = 1\n",
    "    k_min = 0\n",
    "    for k in result.keys():\n",
    "        cur = jaccardDistance(result[k], test)\n",
    "        if cur < dis_min:\n",
    "            dis_min = cur\n",
    "            k_min = k\n",
    "    \n",
    "    return k_min"
   ]
  },
  {
   "cell_type": "code",
   "execution_count": 355,
   "metadata": {},
   "outputs": [],
   "source": [
    "tag_list = getTagList(test, hash_func)"
   ]
  },
  {
   "cell_type": "code",
   "execution_count": 361,
   "metadata": {},
   "outputs": [],
   "source": [
    "nearestNeightbor = getNearestNeighbor(hashBuckets, tag_list, test)"
   ]
  }
 ],
 "metadata": {
  "kernelspec": {
   "display_name": "Python 3",
   "language": "python",
   "name": "python3"
  },
  "language_info": {
   "codemirror_mode": {
    "name": "ipython",
    "version": 3
   },
   "file_extension": ".py",
   "mimetype": "text/x-python",
   "name": "python",
   "nbconvert_exporter": "python",
   "pygments_lexer": "ipython3",
   "version": "3.6.5"
  }
 },
 "nbformat": 4,
 "nbformat_minor": 2
}
