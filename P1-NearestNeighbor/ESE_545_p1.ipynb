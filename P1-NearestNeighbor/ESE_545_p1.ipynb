{
 "cells": [
  {
   "cell_type": "code",
   "execution_count": 1,
   "metadata": {},
   "outputs": [],
   "source": [
    "import numpy as np\n",
    "import pandas as pd\n",
    "import time\n",
    "import datetime\n",
    "import hashlib\n",
    "import matplotlib.pyplot as plt"
   ]
  },
  {
   "cell_type": "markdown",
   "metadata": {},
   "source": [
    "# Problem 1"
   ]
  },
  {
   "cell_type": "code",
   "execution_count": 2,
   "metadata": {},
   "outputs": [],
   "source": [
    "mainPath = \"C:\\\\Users\\\\nizhe\\\\Desktop\\\\ESE-545\\\\Projects\\\\P1\\\\Netflix_data.txt\""
   ]
  },
  {
   "cell_type": "code",
   "execution_count": 3,
   "metadata": {},
   "outputs": [],
   "source": [
    "# Drop all the ratings that below 3\n",
    "def dropRatingsBelow3 (original_df):\n",
    "#     result_df = original_df[original_df['Rating'] > 3]\n",
    "    result_df = original_df[(original_df['Rating'] != 1) & (original_df['Rating'] != 2)]\n",
    "    return result_df"
   ]
  },
  {
   "cell_type": "code",
   "execution_count": 4,
   "metadata": {},
   "outputs": [],
   "source": [
    "# Drop the users who still have more than 20 ratings\n",
    "def dropUsersAbove20 (selected_df_0):\n",
    "    users_df = selected_df_0.groupby('User_id').count().reset_index().rename(columns = {'Rating' : 'count'})\n",
    "    users_df = users_df[users_df['count'] > 20]\n",
    "    selected_df = selected_df_0.set_index('User_id').drop(list(users_df['User_id'])).reset_index()\n",
    "    return selected_df"
   ]
  },
  {
   "cell_type": "code",
   "execution_count": 5,
   "metadata": {},
   "outputs": [],
   "source": [
    "def mainP1(mainPath):\n",
    "    \n",
    "    # Read in file\n",
    "    original_df = pd.read_csv(mainPath, names = ['User_id', 'Rating', 'Date']).drop('Date', axis = 1)\n",
    "    \n",
    "    # Those value == 100 are movie_id rows \n",
    "    original_df.fillna(value = 100, inplace = True)\n",
    "    \n",
    "    # drop <3 and >20\n",
    "    selected_df_0 = dropRatingsBelow3(original_df)\n",
    "    selected_df = dropUsersAbove20(selected_df_0) # those rows with Rating 100 is the movie_id\n",
    "    \n",
    "    # get total movie and user number\n",
    "    movieNum = len(selected_df[selected_df['Rating'] == 100])\n",
    "    users = list(selected_df[selected_df['Rating'] != 100].groupby('User_id').count().reset_index()['User_id'].astype(int))\n",
    "    userNum = len(users)\n",
    "    \n",
    "    return selected_df, users, movieNum, userNum"
   ]
  },
  {
   "cell_type": "code",
   "execution_count": 6,
   "metadata": {},
   "outputs": [],
   "source": [
    "def getMatrix(selected_df, users, movieNum, userNum):\n",
    "    final = np.zeros((movieNum, userNum))\n",
    "    movie_id = 0\n",
    "    for index, row in selected_df.iterrows():\n",
    "        if row['Rating'] == 100:\n",
    "            movie_id += 1\n",
    "            continue\n",
    "        final[movie_id - 1, users.index(int(row['User_id']))] = 1\n",
    "    \n",
    "    return final"
   ]
  },
  {
   "cell_type": "code",
   "execution_count": 11,
   "metadata": {},
   "outputs": [
    {
     "ename": "NameError",
     "evalue": "name 'mainP1' is not defined",
     "output_type": "error",
     "traceback": [
      "\u001b[1;31m---------------------------------------------------------------------------\u001b[0m",
      "\u001b[1;31mNameError\u001b[0m                                 Traceback (most recent call last)",
      "\u001b[1;32m<ipython-input-11-e81c45cbca86>\u001b[0m in \u001b[0;36m<module>\u001b[1;34m()\u001b[0m\n\u001b[1;32m----> 1\u001b[1;33m \u001b[0mselected_df\u001b[0m\u001b[1;33m,\u001b[0m \u001b[0musers\u001b[0m\u001b[1;33m,\u001b[0m \u001b[0mmovieNum\u001b[0m\u001b[1;33m,\u001b[0m \u001b[0muserNum\u001b[0m \u001b[1;33m=\u001b[0m \u001b[0mmainP1\u001b[0m\u001b[1;33m(\u001b[0m\u001b[0mmainPath\u001b[0m\u001b[1;33m)\u001b[0m\u001b[1;33m\u001b[0m\u001b[0m\n\u001b[0m",
      "\u001b[1;31mNameError\u001b[0m: name 'mainP1' is not defined"
     ]
    }
   ],
   "source": [
    "selected_df, users, movieNum, userNum = mainP1(mainPath)"
   ]
  },
  {
   "cell_type": "markdown",
   "metadata": {},
   "source": [
    "# Problem 2"
   ]
  },
  {
   "cell_type": "code",
   "execution_count": 1,
   "metadata": {},
   "outputs": [],
   "source": [
    "# 备用过程\n",
    "\n",
    "import numpy as np\n",
    "import pandas as pd\n",
    "import time\n",
    "import datetime\n",
    "import hashlib\n",
    "import matplotlib.pyplot as plt\n",
    "\n",
    "final = np.load('C:\\\\Users\\\\nizhe\\\\Desktop\\\\ESE-545\\\\Projects\\\\P1\\\\final.npy')"
   ]
  },
  {
   "cell_type": "code",
   "execution_count": 5,
   "metadata": {},
   "outputs": [],
   "source": [
    "movieNum, userNum = 4499, 231424"
   ]
  },
  {
   "cell_type": "code",
   "execution_count": 2,
   "metadata": {},
   "outputs": [],
   "source": [
    "def jaccardDistance(list1, list2):\n",
    "    arr = np.array([list1, list2]).T\n",
    "    union = len(arr[arr.sum(axis = 1) > 0])\n",
    "    intersect = len(arr[arr.sum(axis = 1) == 2])\n",
    "    \n",
    "    return 1 - intersect / union"
   ]
  },
  {
   "cell_type": "code",
   "execution_count": 6,
   "metadata": {},
   "outputs": [],
   "source": [
    "distance = []\n",
    "for i in range(10000):\n",
    "    a = np.random.randint(0,userNum)\n",
    "    b = np.random.randint(0,userNum)\n",
    "\n",
    "    list1 = final[:,a]\n",
    "    list2 = final[:,b]\n",
    "\n",
    "    distance.append(jaccardDistance(list1, list2))"
   ]
  },
  {
   "cell_type": "code",
   "execution_count": 7,
   "metadata": {},
   "outputs": [
    {
     "data": {
      "text/plain": [
       "Text(0,0.5,'Count')"
      ]
     },
     "execution_count": 7,
     "metadata": {},
     "output_type": "execute_result"
    },
    {
     "data": {
      "image/png": "[encoded data removed]",
      "text/plain": [
       "<Figure size 432x288 with 1 Axes>"
      ]
     },
     "metadata": {},
     "output_type": "display_data"
    }
   ],
   "source": [
    "plt.hist(distance, bins= 50)  \n",
    "plt.title(\"Pairwise Jaccard distance histogram\")\n",
    "plt.xlabel('Jaccard distance')\n",
    "plt.ylabel('Count')"
   ]
  },
  {
   "cell_type": "markdown",
   "metadata": {},
   "source": [
    "# Problem 3"
   ]
  },
  {
   "cell_type": "code",
   "execution_count": 8,
   "metadata": {},
   "outputs": [],
   "source": [
    "hashNum = 60\n",
    "nextPrime = 4507"
   ]
  },
  {
   "cell_type": "code",
   "execution_count": 9,
   "metadata": {},
   "outputs": [],
   "source": [
    "def getSignatureMatrix(final, movieNum, userNum):\n",
    "    \n",
    "    # generate full np array as an initial signature matrix\n",
    "    sig_mat = np.full((hashNum, userNum), movieNum + 1)\n",
    "    \n",
    "    # params for each hash function \n",
    "    hash_func = np.random.randint(0, nextPrime, (hashNum, 2))\n",
    "    \n",
    "    for i in range(len(users)):    \n",
    "        for index in range(movieNum):\n",
    "            if final[index,i] == 1:\n",
    "                for j in range(0,hashNum):\n",
    "                    sig_mat[j,i] = min((hash_func[j,0] * index + hash_func[j,1]) % movieNum, sig_mat[j,i])\n",
    "                    \n",
    "    return sig_mat"
   ]
  },
  {
   "cell_type": "code",
   "execution_count": 10,
   "metadata": {},
   "outputs": [
    {
     "ename": "NameError",
     "evalue": "name 'users' is not defined",
     "output_type": "error",
     "traceback": [
      "\u001b[1;31m---------------------------------------------------------------------------\u001b[0m",
      "\u001b[1;31mNameError\u001b[0m                                 Traceback (most recent call last)",
      "\u001b[1;32m<ipython-input-10-334b554b6834>\u001b[0m in \u001b[0;36m<module>\u001b[1;34m()\u001b[0m\n\u001b[1;32m----> 1\u001b[1;33m \u001b[0msig_mat\u001b[0m \u001b[1;33m=\u001b[0m \u001b[0mgetSignatureMatrix\u001b[0m\u001b[1;33m(\u001b[0m\u001b[0mfinal\u001b[0m\u001b[1;33m,\u001b[0m \u001b[0mmovieNum\u001b[0m\u001b[1;33m,\u001b[0m \u001b[0muserNum\u001b[0m\u001b[1;33m)\u001b[0m\u001b[1;33m\u001b[0m\u001b[0m\n\u001b[0m",
      "\u001b[1;32m<ipython-input-9-223911254dd7>\u001b[0m in \u001b[0;36mgetSignatureMatrix\u001b[1;34m(final, movieNum, userNum)\u001b[0m\n\u001b[0;32m      7\u001b[0m     \u001b[0mhash_func\u001b[0m \u001b[1;33m=\u001b[0m \u001b[0mnp\u001b[0m\u001b[1;33m.\u001b[0m\u001b[0mrandom\u001b[0m\u001b[1;33m.\u001b[0m\u001b[0mrandint\u001b[0m\u001b[1;33m(\u001b[0m\u001b[1;36m0\u001b[0m\u001b[1;33m,\u001b[0m \u001b[0mnextPrime\u001b[0m\u001b[1;33m,\u001b[0m \u001b[1;33m(\u001b[0m\u001b[0mhashNum\u001b[0m\u001b[1;33m,\u001b[0m \u001b[1;36m2\u001b[0m\u001b[1;33m)\u001b[0m\u001b[1;33m)\u001b[0m\u001b[1;33m\u001b[0m\u001b[0m\n\u001b[0;32m      8\u001b[0m \u001b[1;33m\u001b[0m\u001b[0m\n\u001b[1;32m----> 9\u001b[1;33m     \u001b[1;32mfor\u001b[0m \u001b[0mi\u001b[0m \u001b[1;32min\u001b[0m \u001b[0mrange\u001b[0m\u001b[1;33m(\u001b[0m\u001b[0mlen\u001b[0m\u001b[1;33m(\u001b[0m\u001b[0musers\u001b[0m\u001b[1;33m)\u001b[0m\u001b[1;33m)\u001b[0m\u001b[1;33m:\u001b[0m\u001b[1;33m\u001b[0m\u001b[0m\n\u001b[0m\u001b[0;32m     10\u001b[0m         \u001b[1;32mfor\u001b[0m \u001b[0mindex\u001b[0m \u001b[1;32min\u001b[0m \u001b[0mrange\u001b[0m\u001b[1;33m(\u001b[0m\u001b[0mmovieNum\u001b[0m\u001b[1;33m)\u001b[0m\u001b[1;33m:\u001b[0m\u001b[1;33m\u001b[0m\u001b[0m\n\u001b[0;32m     11\u001b[0m             \u001b[1;32mif\u001b[0m \u001b[0mfinal\u001b[0m\u001b[1;33m[\u001b[0m\u001b[0mindex\u001b[0m\u001b[1;33m,\u001b[0m\u001b[0mi\u001b[0m\u001b[1;33m]\u001b[0m \u001b[1;33m==\u001b[0m \u001b[1;36m1\u001b[0m\u001b[1;33m:\u001b[0m\u001b[1;33m\u001b[0m\u001b[0m\n",
      "\u001b[1;31mNameError\u001b[0m: name 'users' is not defined"
     ]
    }
   ],
   "source": [
    "sig_mat = getSignatureMatrix(final, movieNum, userNum)"
   ]
  },
  {
   "cell_type": "code",
   "execution_count": 64,
   "metadata": {},
   "outputs": [],
   "source": [
    "def getHashBuckets(sig_mat, r, userNum):\n",
    "    # r is number of rows per band\n",
    "    \n",
    "    hashBuckets = []\n",
    "    i = 0\n",
    "    while i < (hashNum / r):\n",
    "        bucket = {}  \n",
    "        for j in range(0, userNum):\n",
    "            hashobj = hashlib.md5()\n",
    "\n",
    "            band = str(sig_mat[r*i: r*i + r, j])\n",
    "            hashobj.update(band.encode())\n",
    "            tag = int(hashobj.hexdigest(),16)\n",
    "\n",
    "            \n",
    "            if tag not in bucket:\n",
    "                bucket[tag] = [(users[j], final[:, j])] \n",
    "                \n",
    "#                 bucket[tag] = [users[j]]   \n",
    "            else:\n",
    "                \n",
    "                bucket[tag].append((users[j], final[:, j]))\n",
    "#                 bucket[tag].append(users[j])\n",
    "\n",
    "        hashBuckets.append(bucket)\n",
    "        i += 1\n",
    "        \n",
    "    return hashBuckets"
   ]
  },
  {
   "cell_type": "code",
   "execution_count": 65,
   "metadata": {},
   "outputs": [],
   "source": [
    "hashBuckets = getHashBuckets(sig_mat, 4, userNum)"
   ]
  },
  {
   "cell_type": "code",
   "execution_count": null,
   "metadata": {},
   "outputs": [],
   "source": [
    "pairs = set()\n",
    "for i in hashBuckets:\n",
    "    # i is a dict, {hash_value : [{user_id : array},{}]}\n",
    "    \n",
    "    for k in i.keys():\n",
    "        \n",
    "        if len(i[k]) == 1:\n",
    "            continue\n",
    "            \n",
    "        for m in range(len(i[k])):\n",
    "            # i[k] is a list, [{},{}]\n",
    "            \n",
    "            for n in range(m, len(i[k])):\n",
    "                \n",
    "                if jaccardDistance(i[k][m][1], i[k][n][1]) < 0.35:\n",
    "                    \n",
    "                    pairs.add((i[k][m][0],i[k][n][0]))            "
   ]
  },
  {
   "cell_type": "code",
   "execution_count": null,
   "metadata": {},
   "outputs": [],
   "source": []
  }
 ],
 "metadata": {
  "kernelspec": {
   "display_name": "Python 3",
   "language": "python",
   "name": "python3"
  },
  "language_info": {
   "codemirror_mode": {
    "name": "ipython",
    "version": 3
   },
   "file_extension": ".py",
   "mimetype": "text/x-python",
   "name": "python",
   "nbconvert_exporter": "python",
   "pygments_lexer": "ipython3",
   "version": "3.6.5"
  }
 },
 "nbformat": 4,
 "nbformat_minor": 2
}
