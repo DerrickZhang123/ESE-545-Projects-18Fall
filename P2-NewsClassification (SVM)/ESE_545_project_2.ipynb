{
 "cells": [
  {
   "cell_type": "code",
   "execution_count": 1,
   "metadata": {},
   "outputs": [],
   "source": [
    "import tensorflow as tf\n",
    "import numpy as np\n",
    "import pandas as pd\n",
    "import matplotlib.pyplot as plt\n",
    "from scipy.sparse import csr_matrix\n",
    "from numpy import linalg as LA\n",
    "from sklearn.datasets import fetch_rcv1"
   ]
  },
  {
   "cell_type": "code",
   "execution_count": 2,
   "metadata": {},
   "outputs": [],
   "source": [
    "np.set_printoptions(suppress=True)"
   ]
  },
  {
   "cell_type": "code",
   "execution_count": 3,
   "metadata": {},
   "outputs": [],
   "source": [
    "rcv1 = fetch_rcv1()"
   ]
  },
  {
   "cell_type": "code",
   "execution_count": 4,
   "metadata": {},
   "outputs": [
    {
     "data": {
      "text/plain": [
       "(804414, 47236)"
      ]
     },
     "execution_count": 4,
     "metadata": {},
     "output_type": "execute_result"
    }
   ],
   "source": [
    "rcv1['data'].shape"
   ]
  },
  {
   "cell_type": "code",
   "execution_count": 5,
   "metadata": {},
   "outputs": [],
   "source": [
    "feature = rcv1['data'].shape[1]"
   ]
  },
  {
   "cell_type": "markdown",
   "metadata": {},
   "source": [
    "# Problem 1"
   ]
  },
  {
   "cell_type": "code",
   "execution_count": 6,
   "metadata": {},
   "outputs": [],
   "source": [
    "# Generate new label, where 'CCAT' is 1, and -1 otherwise.\n",
    "def newLabel(matrix):\n",
    "    new_label = []\n",
    "    row_num = matrix.shape[0]\n",
    "    for i in range(row_num):\n",
    "        if matrix[i, 33] == 1:\n",
    "            new_label.append(1)\n",
    "        else:\n",
    "            new_label.append(-1) # set it to 0 and then sum to verify.\n",
    "    return new_label"
   ]
  },
  {
   "cell_type": "code",
   "execution_count": 7,
   "metadata": {},
   "outputs": [],
   "source": [
    "label = newLabel(rcv1['target']) # 381327 "
   ]
  },
  {
   "cell_type": "code",
   "execution_count": 9,
   "metadata": {},
   "outputs": [],
   "source": [
    "def trainTestSplit(data, label, article_num):\n",
    "    # here data is rcv1['data']\n",
    "    # label is new label produced above\n",
    "    # article_num = 100,000\n",
    "    X_train = data[0 : article_num]\n",
    "    X_test = data[article_num : ]\n",
    "    y_train = label[0 : article_num]\n",
    "    y_test = label[article_num : ]\n",
    "    return X_train, X_test, y_train, y_test"
   ]
  },
  {
   "cell_type": "code",
   "execution_count": 10,
   "metadata": {},
   "outputs": [],
   "source": [
    "X_train, X_test, y_train, y_test = trainTestSplit(rcv1['data'], label, 100000)"
   ]
  },
  {
   "cell_type": "code",
   "execution_count": 11,
   "metadata": {},
   "outputs": [],
   "source": [
    "# new_label = []\n",
    "# new_label = rcv1.target[:,33].toarray()\n",
    "# for i in range(804414):\n",
    "#     if new_label[i] == 0:\n",
    "#         new_label[i] = new_label[i] - 1\n",
    "            \n",
    "# new_label = np.int8(new_label)\n",
    "\n",
    "# new_label"
   ]
  },
  {
   "cell_type": "code",
   "execution_count": 12,
   "metadata": {},
   "outputs": [],
   "source": [
    "# X_train = rcv1.data[0:100000]\n",
    "# y_train = new_label[0:100000]\n",
    "# y_test = new_label[100000::]"
   ]
  },
  {
   "cell_type": "markdown",
   "metadata": {},
   "source": [
    "# Problem 2 Pegasos"
   ]
  },
  {
   "cell_type": "code",
   "execution_count": 13,
   "metadata": {},
   "outputs": [],
   "source": [
    "def err_rate(X_train, y_train, w):\n",
    "    result = (X_train * w.T).T\n",
    "    count = 0\n",
    "    \n",
    "    for i in range(X_train.shape[0]):\n",
    "        if result[0, i] * y_train[i] > 0:\n",
    "             count += 1\n",
    "         \n",
    "    return 1-(count / X_train.shape[0]) "
   ]
  },
  {
   "cell_type": "code",
   "execution_count": 14,
   "metadata": {},
   "outputs": [],
   "source": [
    "# Mini-Batch PEGASOS Algorithm\n",
    "def pegasos(X_train, y_train, Lambda, T, minibatch_size):\n",
    "    error_list = []\n",
    "    w = np.zeros((feature,1))\n",
    "\n",
    "    for t in range(1, T+1):\n",
    "        At_x = []\n",
    "        At_y = []\n",
    "        num = np.random.randint(100000, size = minibatch_size)\n",
    "        for i in num:\n",
    "            At_x.append(X_train[i])\n",
    "            At_y.append(y_train[i])\n",
    "\n",
    "            At_x_plus = []\n",
    "            At_y_plus = []\n",
    "\n",
    "        for j in range(len(At_x)):            \n",
    "            if int(np.inner(w.T,At_x[j].toarray())*At_y[j]) < 1:\n",
    "                At_x_plus.append(At_x[j])\n",
    "                At_y_plus.append(At_y[j])\n",
    "\n",
    "        eta_t = 1/(Lambda*t)\n",
    "\n",
    "        temp = []\n",
    "        for n in range(len(At_x_plus)):\n",
    "            temp.append(np.dot(At_x_plus[n],At_y_plus[n]))\n",
    "\n",
    "        temp_1 = (eta_t/minibatch_size)*sum(temp)\n",
    "\n",
    "        w = (1 - eta_t*Lambda)*w + temp_1.T\n",
    "        w = min(1, (1/np.sqrt(Lambda))/LA.norm(w.T,2)) * w\n",
    "        \n",
    "        error_list.append(err_rate(X_train, y_train, w.T))\n",
    "        \n",
    "    return w, error_list"
   ]
  },
  {
   "cell_type": "code",
   "execution_count": 15,
   "metadata": {},
   "outputs": [
    {
     "data": {
      "text/plain": [
       "Text(0.5, 1.0, 'Error Rate Curve of mini-batch')"
      ]
     },
     "execution_count": 15,
     "metadata": {},
     "output_type": "execute_result"
    },
    {
     "data": {
      "image/png": "[encoded data removed]",
      "text/plain": [
       "<Figure size 432x288 with 1 Axes>"
      ]
     },
     "metadata": {
      "needs_background": "light"
     },
     "output_type": "display_data"
    }
   ],
   "source": [
    "max_iter1 = 200\n",
    "w1, error_rate_list1 = pegasos(X_train, y_train, 0.001, max_iter1, 100)\n",
    "plt.plot(range(1, max_iter1 + 1),error_rate_list1)\n",
    "plt.xlabel('iter')\n",
    "plt.ylabel('train error')\n",
    "plt.title('Error Rate Curve of mini-batch')"
   ]
  },
  {
   "cell_type": "code",
   "execution_count": 16,
   "metadata": {},
   "outputs": [],
   "source": [
    "# PEGASOS Algorithm\n",
    "def pegasos2(X_train, y_train, Lambda, T):\n",
    "    w = np.zeros((1, feature))\n",
    "    error_rate_list = list()\n",
    "    for t in range(1, T+1):\n",
    "        error_rate_list.append(err_rate(X_train, y_train, w))\n",
    "        num = np.random.randint(100000)\n",
    "        eta_t = 1/(Lambda*t)    \n",
    "        if np.dot(y_train[num],(w*X_train[num].T))<= 0:        \n",
    "            w = (1 - eta_t*Lambda)*w + eta_t*X_train[num]*y_train[num]\n",
    "        else:\n",
    "            w = (1 - eta_t*Lambda)*w\n",
    "\n",
    "    return w, error_rate_list"
   ]
  },
  {
   "cell_type": "code",
   "execution_count": 17,
   "metadata": {},
   "outputs": [
    {
     "data": {
      "text/plain": [
       "Text(0.5, 1.0, 'Error Rate Curve')"
      ]
     },
     "execution_count": 17,
     "metadata": {},
     "output_type": "execute_result"
    },
    {
     "data": {
      "image/png": "[encoded data removed]",
      "text/plain": [
       "<Figure size 432x288 with 1 Axes>"
      ]
     },
     "metadata": {
      "needs_background": "light"
     },
     "output_type": "display_data"
    }
   ],
   "source": [
    "max_iter2 = 500\n",
    "w2, error_rate_list2 = pegasos2(X_train, y_train, 0.001, max_iter2)\n",
    "plt.plot(range(1, max_iter2 + 1),error_rate_list2)\n",
    "plt.xlabel('iter')\n",
    "plt.ylabel('train error')\n",
    "plt.title('Error Rate Curve')"
   ]
  },
  {
   "cell_type": "markdown",
   "metadata": {},
   "source": [
    "# Problem 3 AdaGrad"
   ]
  },
  {
   "cell_type": "code",
   "execution_count": 18,
   "metadata": {},
   "outputs": [],
   "source": [
    "# Adagrad Algorithm\n",
    "def AdaGrad(X_train, y_train, Lambda, T, sigma, minibatch_size):\n",
    "    St = 0\n",
    "    wt = np.zeros((1, feature))\n",
    "    error_rate_list = list()\n",
    "    for t in range(1, T+1):\n",
    "        At_x = []\n",
    "        At_y = []\n",
    "        num = np.random.randint(100000, size = minibatch_size)\n",
    "        for i in num:\n",
    "            At_x.append(X_train[i])\n",
    "            At_y.append(y_train[i])\n",
    "\n",
    "        At_x_plus = []\n",
    "        At_y_plus = []        \n",
    "\n",
    "        for j in range(len(At_x)):            \n",
    "            if At_y[j]*np.dot(At_x[j].toarray(),wt.T) < 1:\n",
    "\n",
    "                At_x_plus.append(At_x[j])\n",
    "                At_y_plus.append(At_y[j])\n",
    "\n",
    "        temp = []\n",
    "        for n in range(len(At_x_plus)):\n",
    "            temp.append(np.dot(At_x_plus[n],At_y_plus[n]))\n",
    "\n",
    "        eta = 1/(Lambda*t)\n",
    "        grad = Lambda*wt - eta*(1/100000)*sum(temp)\n",
    "\n",
    "        St = St + np.dot(grad,grad.T)\n",
    "\n",
    "        delta_w = -(eta/(sigma + np.sqrt(St))) * grad\n",
    "\n",
    "        wt = wt + delta_w\n",
    "        error_rate_list.append(err_rate(X_train, y_train, wt))\n",
    "    return wt, error_rate_list"
   ]
  },
  {
   "cell_type": "code",
   "execution_count": 33,
   "metadata": {},
   "outputs": [
    {
     "data": {
      "text/plain": [
       "Text(0.5, 1.0, 'Error Rate Curve of AdaGrad')"
      ]
     },
     "execution_count": 33,
     "metadata": {},
     "output_type": "execute_result"
    },
    {
     "data": {
      "image/png": "[encoded data removed]",
      "text/plain": [
       "<Figure size 432x288 with 1 Axes>"
      ]
     },
     "metadata": {
      "needs_background": "light"
     },
     "output_type": "display_data"
    }
   ],
   "source": [
    "max_iter3 = 500\n",
    "w3, error_rate_list3 = AdaGrad(X_train, y_train, 0.001, max_iter3, 1e-6, 1000)\n",
    "plt.plot(range(1, max_iter3 + 1),error_rate_list3)\n",
    "plt.xlabel('iter')\n",
    "plt.ylabel('train error')\n",
    "plt.title('Error Rate Curve of AdaGrad')"
   ]
  },
  {
   "cell_type": "code",
   "execution_count": 53,
   "metadata": {},
   "outputs": [
    {
     "data": {
      "text/plain": [
       "Text(0.5, 1.0, 'Error Rate Curve')"
      ]
     },
     "execution_count": 53,
     "metadata": {},
     "output_type": "execute_result"
    },
    {
     "data": {
      "image/png": "[encoded data removed]",
      "text/plain": [
       "<Figure size 432x288 with 1 Axes>"
      ]
     },
     "metadata": {
      "needs_background": "light"
     },
     "output_type": "display_data"
    }
   ],
   "source": [
    "plt.plot(range(1, max_iter2 + 1),error_rate_list2)\n",
    "plt.plot(range(1, max_iter3 + 1),error_rate_list3)\n",
    "plt.xlabel('iter')\n",
    "plt.ylabel('train error')\n",
    "plt.legend(['pegasos', 'adagrad'])\n",
    "plt.title('Error Rate Curve')"
   ]
  },
  {
   "cell_type": "code",
   "execution_count": 54,
   "metadata": {},
   "outputs": [
    {
     "data": {
      "text/plain": [
       "Text(0.5, 1.0, 'Error Rate Curve')"
      ]
     },
     "execution_count": 54,
     "metadata": {},
     "output_type": "execute_result"
    },
    {
     "data": {
      "image/png": "[encoded data removed]",
      "text/plain": [
       "<Figure size 432x288 with 1 Axes>"
      ]
     },
     "metadata": {
      "needs_background": "light"
     },
     "output_type": "display_data"
    }
   ],
   "source": [
    "plt.plot(range(1, max_iter1 + 1),error_rate_list1)\n",
    "plt.plot(range(1, max_iter1 + 1),error_rate_list3[0:200])\n",
    "plt.xlabel('iter')\n",
    "plt.ylabel('train error')\n",
    "plt.legend(['pegasos', 'adagrad'])\n",
    "plt.title('Error Rate Curve')"
   ]
  },
  {
   "cell_type": "markdown",
   "metadata": {},
   "source": [
    "# Problem 4 Neural Nets"
   ]
  },
  {
   "cell_type": "markdown",
   "metadata": {},
   "source": [
    "# (1)"
   ]
  },
  {
   "cell_type": "code",
   "execution_count": 20,
   "metadata": {},
   "outputs": [
    {
     "name": "stderr",
     "output_type": "stream",
     "text": [
      "Using TensorFlow backend.\n"
     ]
    }
   ],
   "source": [
    "from sklearn.preprocessing import StandardScaler\n",
    "from keras.models import Sequential\n",
    "from keras.layers import Dense"
   ]
  },
  {
   "cell_type": "code",
   "execution_count": 35,
   "metadata": {},
   "outputs": [],
   "source": [
    "def labelModifier(y):\n",
    "    for i in range(len(y)):\n",
    "        if y[i] == -1:\n",
    "            y[i] = 0\n",
    "    return y"
   ]
  },
  {
   "cell_type": "code",
   "execution_count": 36,
   "metadata": {},
   "outputs": [],
   "source": [
    "Y_train = labelModifier(y_train)\n",
    "Y_test = labelModifier(y_test)"
   ]
  },
  {
   "cell_type": "code",
   "execution_count": 37,
   "metadata": {},
   "outputs": [],
   "source": [
    "scaler = StandardScaler(with_mean = False).fit(X_train)\n",
    "X_train = scaler.transform(X_train)"
   ]
  },
  {
   "cell_type": "code",
   "execution_count": 38,
   "metadata": {},
   "outputs": [],
   "source": [
    "def NeuralNet(n_hidden, layers):\n",
    "    # Initialize the constructor\n",
    "    model = Sequential()\n",
    "\n",
    "    # Add an input layer \n",
    "    model.add(Dense(n_hidden, activation='relu', input_shape=(feature, )))\n",
    "    \n",
    "    for i in range(layers):\n",
    "        #Add one hidden layer \n",
    "        model.add(Dense(n_hidden, activation='relu'))\n",
    "\n",
    "    # Add an output layer \n",
    "    model.add(Dense(1, activation='sigmoid'))\n",
    "    \n",
    "    return model"
   ]
  },
  {
   "cell_type": "code",
   "execution_count": 44,
   "metadata": {},
   "outputs": [],
   "source": [
    "model1 = NeuralNet(100, 1)\n",
    "model2 = NeuralNet(100, 2)\n",
    "model3 = NeuralNet(100, 3)"
   ]
  },
  {
   "cell_type": "code",
   "execution_count": 45,
   "metadata": {},
   "outputs": [],
   "source": [
    "model1.compile(loss = 'binary_crossentropy', optimizer = 'sgd', metrics=['accuracy'])\n",
    "model2.compile(loss = 'binary_crossentropy', optimizer = 'sgd', metrics=['accuracy'])\n",
    "model3.compile(loss = 'binary_crossentropy', optimizer = 'sgd', metrics=['accuracy'])"
   ]
  },
  {
   "cell_type": "code",
   "execution_count": 46,
   "metadata": {},
   "outputs": [
    {
     "name": "stdout",
     "output_type": "stream",
     "text": [
      "Epoch 1/5\n",
      "100000/100000 [==============================] - 69s 690us/step - loss: 0.6019 - acc: 0.7046\n",
      "Epoch 2/5\n",
      "100000/100000 [==============================] - 69s 694us/step - loss: 0.3591 - acc: 0.8828\n",
      "Epoch 3/5\n",
      "100000/100000 [==============================] - 69s 693us/step - loss: 0.2272 - acc: 0.9276\n",
      "Epoch 4/5\n",
      "100000/100000 [==============================] - 70s 697us/step - loss: 0.1652 - acc: 0.9475\n",
      "Epoch 5/5\n",
      "100000/100000 [==============================] - 80s 796us/step - loss: 0.1307 - acc: 0.9592\n",
      "Epoch 1/5\n",
      "100000/100000 [==============================] - 82s 817us/step - loss: 0.6574 - acc: 0.6302\n",
      "Epoch 2/5\n",
      "100000/100000 [==============================] - 82s 815us/step - loss: 0.4863 - acc: 0.8252\n",
      "Epoch 3/5\n",
      "100000/100000 [==============================] - 82s 822us/step - loss: 0.2926 - acc: 0.9043\n",
      "Epoch 4/5\n",
      "100000/100000 [==============================] - 82s 823us/step - loss: 0.1902 - acc: 0.9372\n",
      "Epoch 5/5\n",
      "100000/100000 [==============================] - 83s 829us/step - loss: 0.1391 - acc: 0.9549\n",
      "Epoch 1/5\n",
      "100000/100000 [==============================] - 91s 907us/step - loss: 0.6699 - acc: 0.6115\n",
      "Epoch 2/5\n",
      "100000/100000 [==============================] - 88s 875us/step - loss: 0.5482 - acc: 0.7864\n",
      "Epoch 3/5\n",
      "100000/100000 [==============================] - 86s 858us/step - loss: 0.3378 - acc: 0.8881\n",
      "Epoch 4/5\n",
      "100000/100000 [==============================] - 79s 791us/step - loss: 0.2046 - acc: 0.9311\n",
      "Epoch 5/5\n",
      "100000/100000 [==============================] - 75s 753us/step - loss: 0.1420 - acc: 0.9536\n"
     ]
    }
   ],
   "source": [
    "train_result_1 = model1.fit(X_train, Y_train, epochs=5, batch_size=1000, verbose=1)\n",
    "train_result_2 = model2.fit(X_train, Y_train, epochs=5, batch_size=1000, verbose=1)\n",
    "train_result_3 = model3.fit(X_train, Y_train, epochs=5, batch_size=1000, verbose=1)"
   ]
  },
  {
   "cell_type": "code",
   "execution_count": 47,
   "metadata": {},
   "outputs": [
    {
     "data": {
      "text/plain": [
       "Text(0, 0.5, 'train error')"
      ]
     },
     "execution_count": 47,
     "metadata": {},
     "output_type": "execute_result"
    },
    {
     "data": {
      "image/png": "[encoded data removed]",
      "text/plain": [
       "<Figure size 432x288 with 1 Axes>"
      ]
     },
     "metadata": {
      "needs_background": "light"
     },
     "output_type": "display_data"
    }
   ],
   "source": [
    "plt.plot([1,2,3,4,5], 1 - np.array(train_result_1.history['acc']))\n",
    "plt.plot([1,2,3,4,5], 1 - np.array(train_result_2.history['acc']))\n",
    "plt.plot([1,2,3,4,5], 1 - np.array(train_result_3.history['acc']))\n",
    "plt.legend(['1-layer', '2-layer', '3-layer'])\n",
    "plt.xlabel('epochs')\n",
    "plt.ylabel('train error')"
   ]
  },
  {
   "cell_type": "markdown",
   "metadata": {},
   "source": [
    "# (2)"
   ]
  },
  {
   "cell_type": "code",
   "execution_count": 48,
   "metadata": {},
   "outputs": [],
   "source": [
    "def select_model(n_hiddens_selection, layers_selection):\n",
    "    train_results = {}\n",
    "    for i in n_hiddens_selection:\n",
    "        for j in layers_selection:\n",
    "            model = NeuralNet(i, j)\n",
    "            model.compile(loss = 'binary_crossentropy', optimizer = 'sgd', metrics=['accuracy'])\n",
    "            train_result = model.fit(X_train, Y_train, epochs = 5, batch_size = 1000, verbose=1)\n",
    "            train_results[(i, j)] = 1 - np.array(train_result.history['acc'])\n",
    "            \n",
    "    return train_results"
   ]
  },
  {
   "cell_type": "code",
   "execution_count": 49,
   "metadata": {},
   "outputs": [
    {
     "name": "stdout",
     "output_type": "stream",
     "text": [
      "Epoch 1/5\n",
      "100000/100000 [==============================] - 64s 637us/step - loss: 0.6558 - acc: 0.6379\n",
      "Epoch 2/5\n",
      "100000/100000 [==============================] - 61s 611us/step - loss: 0.4475 - acc: 0.8361\n",
      "Epoch 3/5\n",
      "100000/100000 [==============================] - 59s 589us/step - loss: 0.2656 - acc: 0.9079\n",
      "Epoch 4/5\n",
      "100000/100000 [==============================] - 59s 588us/step - loss: 0.1829 - acc: 0.9384\n",
      "Epoch 5/5\n",
      "100000/100000 [==============================] - 58s 585us/step - loss: 0.1395 - acc: 0.9537\n",
      "Epoch 1/5\n",
      "100000/100000 [==============================] - 61s 606us/step - loss: 0.6816 - acc: 0.5625\n",
      "Epoch 2/5\n",
      "100000/100000 [==============================] - 64s 636us/step - loss: 0.6258 - acc: 0.6637\n",
      "Epoch 3/5\n",
      "100000/100000 [==============================] - 63s 625us/step - loss: 0.4840 - acc: 0.8210\n",
      "Epoch 4/5\n",
      "100000/100000 [==============================] - 61s 612us/step - loss: 0.2985 - acc: 0.9001\n",
      "Epoch 5/5\n",
      "100000/100000 [==============================] - 67s 669us/step - loss: 0.1949 - acc: 0.9353\n",
      "Epoch 1/5\n",
      "100000/100000 [==============================] - 65s 651us/step - loss: 0.6983 - acc: 0.5037\n",
      "Epoch 2/5\n",
      "100000/100000 [==============================] - 67s 672us/step - loss: 0.6873 - acc: 0.5606\n",
      "Epoch 3/5\n",
      "100000/100000 [==============================] - 66s 664us/step - loss: 0.6769 - acc: 0.6061\n",
      "Epoch 4/5\n",
      "100000/100000 [==============================] - 64s 644us/step - loss: 0.6437 - acc: 0.7128\n",
      "Epoch 5/5\n",
      "100000/100000 [==============================] - 65s 648us/step - loss: 0.5301 - acc: 0.8186\n",
      "Epoch 1/5\n",
      "100000/100000 [==============================] - 72s 724us/step - loss: 0.6270 - acc: 0.6728\n",
      "Epoch 2/5\n",
      "100000/100000 [==============================] - 64s 645us/step - loss: 0.3868 - acc: 0.8649\n",
      "Epoch 3/5\n",
      "100000/100000 [==============================] - 64s 642us/step - loss: 0.2326 - acc: 0.9222\n",
      "Epoch 4/5\n",
      "100000/100000 [==============================] - 64s 645us/step - loss: 0.1619 - acc: 0.9468\n",
      "Epoch 5/5\n",
      "100000/100000 [==============================] - 64s 637us/step - loss: 0.1238 - acc: 0.9603\n",
      "Epoch 1/5\n",
      "100000/100000 [==============================] - 64s 640us/step - loss: 0.6854 - acc: 0.5515\n",
      "Epoch 2/5\n",
      "100000/100000 [==============================] - 65s 646us/step - loss: 0.6486 - acc: 0.6271\n",
      "Epoch 3/5\n",
      "100000/100000 [==============================] - 68s 678us/step - loss: 0.5402 - acc: 0.7744\n",
      "Epoch 4/5\n",
      "100000/100000 [==============================] - 71s 707us/step - loss: 0.3467 - acc: 0.8856\n",
      "Epoch 5/5\n",
      "100000/100000 [==============================] - 69s 685us/step - loss: 0.2122 - acc: 0.9305\n",
      "Epoch 1/5\n",
      "100000/100000 [==============================] - 66s 658us/step - loss: 0.6892 - acc: 0.5381\n",
      "Epoch 2/5\n",
      "100000/100000 [==============================] - 66s 661us/step - loss: 0.6808 - acc: 0.5412\n",
      "Epoch 3/5\n",
      "100000/100000 [==============================] - 66s 663us/step - loss: 0.6595 - acc: 0.5644\n",
      "Epoch 4/5\n",
      "100000/100000 [==============================] - 67s 669us/step - loss: 0.5874 - acc: 0.7129\n",
      "Epoch 5/5\n",
      "100000/100000 [==============================] - 67s 674us/step - loss: 0.4366 - acc: 0.8563\n",
      "Epoch 1/5\n",
      "100000/100000 [==============================] - 93s 934us/step - loss: 0.6504 - acc: 0.6475\n",
      "Epoch 2/5\n",
      "100000/100000 [==============================] - 96s 959us/step - loss: 0.4429 - acc: 0.8453\n",
      "Epoch 3/5\n",
      "100000/100000 [==============================] - 98s 978us/step - loss: 0.2605 - acc: 0.9140\n",
      "Epoch 4/5\n",
      "100000/100000 [==============================] - 93s 925us/step - loss: 0.1745 - acc: 0.9417\n",
      "Epoch 5/5\n",
      "100000/100000 [==============================] - 90s 897us/step - loss: 0.1308 - acc: 0.9576\n",
      "Epoch 1/5\n",
      "100000/100000 [==============================] - 86s 860us/step - loss: 0.6898 - acc: 0.5402\n",
      "Epoch 2/5\n",
      "100000/100000 [==============================] - 86s 863us/step - loss: 0.6677 - acc: 0.6129\n",
      "Epoch 3/5\n",
      "100000/100000 [==============================] - 86s 856us/step - loss: 0.6220 - acc: 0.7286\n",
      "Epoch 4/5\n",
      "100000/100000 [==============================] - 85s 846us/step - loss: 0.4718 - acc: 0.8432\n",
      "Epoch 5/5\n",
      "100000/100000 [==============================] - 87s 872us/step - loss: 0.2724 - acc: 0.9077\n",
      "Epoch 1/5\n",
      "100000/100000 [==============================] - 101s 1ms/step - loss: 0.6934 - acc: 0.5183\n",
      "Epoch 2/5\n",
      "100000/100000 [==============================] - 96s 961us/step - loss: 0.6825 - acc: 0.5499\n",
      "Epoch 3/5\n",
      "100000/100000 [==============================] - 94s 936us/step - loss: 0.6672 - acc: 0.5892\n",
      "Epoch 4/5\n",
      "100000/100000 [==============================] - 96s 958us/step - loss: 0.6075 - acc: 0.7381\n",
      "Epoch 5/5\n",
      "100000/100000 [==============================] - 91s 906us/step - loss: 0.4089 - acc: 0.8625\n"
     ]
    }
   ],
   "source": [
    "train_results = select_model([25, 50, 100], [2, 4, 6])"
   ]
  },
  {
   "cell_type": "code",
   "execution_count": 50,
   "metadata": {},
   "outputs": [
    {
     "data": {
      "text/plain": [
       "{(25, 2): array([0.36213, 0.16392, 0.09208, 0.06165, 0.04625]),\n",
       " (25, 4): array([0.43752, 0.33632, 0.17899, 0.09995, 0.06467]),\n",
       " (25, 6): array([0.49628, 0.43935, 0.39392, 0.28717, 0.18144]),\n",
       " (50, 2): array([0.32724, 0.13514, 0.07782, 0.05317, 0.03974]),\n",
       " (50, 4): array([0.44845, 0.37293, 0.22557, 0.11438, 0.06954]),\n",
       " (50, 6): array([0.46186, 0.45882, 0.43564, 0.2871 , 0.14373]),\n",
       " (100, 2): array([0.3525 , 0.15466, 0.08605, 0.0583 , 0.04241]),\n",
       " (100, 4): array([0.45978, 0.3871 , 0.2714 , 0.15678, 0.09231]),\n",
       " (100, 6): array([0.48169, 0.45013, 0.41079, 0.26186, 0.13749])}"
      ]
     },
     "execution_count": 50,
     "metadata": {},
     "output_type": "execute_result"
    }
   ],
   "source": [
    "train_results"
   ]
  },
  {
   "cell_type": "code",
   "execution_count": 52,
   "metadata": {},
   "outputs": [
    {
     "data": {
      "text/html": [
       "<div>\n",
       "<style scoped>\n",
       "    .dataframe tbody tr th:only-of-type {\n",
       "        vertical-align: middle;\n",
       "    }\n",
       "\n",
       "    .dataframe tbody tr th {\n",
       "        vertical-align: top;\n",
       "    }\n",
       "\n",
       "    .dataframe thead th {\n",
       "        text-align: right;\n",
       "    }\n",
       "</style>\n",
       "<table border=\"1\" class=\"dataframe\">\n",
       "  <thead>\n",
       "    <tr style=\"text-align: right;\">\n",
       "      <th></th>\n",
       "      <th>2</th>\n",
       "      <th>4</th>\n",
       "      <th>6</th>\n",
       "    </tr>\n",
       "  </thead>\n",
       "  <tbody>\n",
       "    <tr>\n",
       "      <th>25</th>\n",
       "      <td>0.04625</td>\n",
       "      <td>0.06467</td>\n",
       "      <td>0.18144</td>\n",
       "    </tr>\n",
       "    <tr>\n",
       "      <th>50</th>\n",
       "      <td>0.03974</td>\n",
       "      <td>0.06954</td>\n",
       "      <td>0.14373</td>\n",
       "    </tr>\n",
       "    <tr>\n",
       "      <th>100</th>\n",
       "      <td>0.04241</td>\n",
       "      <td>0.09231</td>\n",
       "      <td>0.13749</td>\n",
       "    </tr>\n",
       "  </tbody>\n",
       "</table>\n",
       "</div>"
      ],
      "text/plain": [
       "           2        4        6\n",
       "25   0.04625  0.06467  0.18144\n",
       "50   0.03974  0.06954  0.14373\n",
       "100  0.04241  0.09231  0.13749"
      ]
     },
     "execution_count": 52,
     "metadata": {},
     "output_type": "execute_result"
    }
   ],
   "source": [
    "# Dataframe, whose index represents different n hiddens, and columns different layers\n",
    "result_df = pd.DataFrame(index = [25, 50, 100], columns = [2, 4, 6])\n",
    "for i in result_df.index:\n",
    "    for j in result_df.columns:\n",
    "        result_df.loc[i, j] = train_results[(i, j)][-1]\n",
    "        \n",
    "result_df"
   ]
  },
  {
   "cell_type": "code",
   "execution_count": 51,
   "metadata": {},
   "outputs": [
    {
     "data": {
      "text/plain": [
       "Text(0.5, 1.0, 'train error of different networks')"
      ]
     },
     "execution_count": 51,
     "metadata": {},
     "output_type": "execute_result"
    },
    {
     "data": {
      "image/png": "[encoded data removed]",
      "text/plain": [
       "<Figure size 432x288 with 1 Axes>"
      ]
     },
     "metadata": {
      "needs_background": "light"
     },
     "output_type": "display_data"
    }
   ],
   "source": [
    "for key, value in train_results.items():\n",
    "    plt.plot([1,2,3,4,5], value)\n",
    "plt.legend(train_results.keys())\n",
    "plt.xlabel('epochs')\n",
    "plt.ylabel('train error')\n",
    "plt.title('train error of different networks')"
   ]
  },
  {
   "cell_type": "markdown",
   "metadata": {},
   "source": [
    "# Problem 5"
   ]
  },
  {
   "cell_type": "code",
   "execution_count": 28,
   "metadata": {},
   "outputs": [
    {
     "data": {
      "text/plain": [
       "0.08112700769717807"
      ]
     },
     "execution_count": 28,
     "metadata": {},
     "output_type": "execute_result"
    }
   ],
   "source": [
    "# pegasos \n",
    "err_rate(X_test, y_test, w1.T)"
   ]
  },
  {
   "cell_type": "code",
   "execution_count": 29,
   "metadata": {},
   "outputs": [
    {
     "data": {
      "text/plain": [
       "0.21994168202221986"
      ]
     },
     "execution_count": 29,
     "metadata": {},
     "output_type": "execute_result"
    }
   ],
   "source": [
    "# pegasos \n",
    "err_rate(X_test, y_test, w2)"
   ]
  },
  {
   "cell_type": "code",
   "execution_count": 34,
   "metadata": {},
   "outputs": [
    {
     "data": {
      "text/plain": [
       "0.09785722600629743"
      ]
     },
     "execution_count": 34,
     "metadata": {},
     "output_type": "execute_result"
    }
   ],
   "source": [
    "# Adagrad\n",
    "err_rate(X_test, y_test, w3)"
   ]
  },
  {
   "cell_type": "code",
   "execution_count": 40,
   "metadata": {},
   "outputs": [
    {
     "name": "stdout",
     "output_type": "stream",
     "text": [
      "Epoch 1/5\n",
      "100000/100000 [==============================] - 60s 598us/step - loss: 0.6525 - acc: 0.6449\n",
      "Epoch 2/5\n",
      "100000/100000 [==============================] - 59s 594us/step - loss: 0.4698 - acc: 0.8311\n",
      "Epoch 3/5\n",
      "100000/100000 [==============================] - 60s 600us/step - loss: 0.2786 - acc: 0.9047\n",
      "Epoch 4/5\n",
      "100000/100000 [==============================] - 60s 601us/step - loss: 0.1856 - acc: 0.9381\n",
      "Epoch 5/5\n",
      "100000/100000 [==============================] - 60s 603us/step - loss: 0.1385 - acc: 0.9546\n"
     ]
    }
   ],
   "source": [
    "model = NeuralNet(50, 2)\n",
    "model.compile(loss = 'binary_crossentropy', optimizer = 'sgd', metrics=['accuracy'])\n",
    "train_result = model.fit(X_train, Y_train, epochs = 5, batch_size = 1000, verbose=1)"
   ]
  },
  {
   "cell_type": "code",
   "execution_count": 42,
   "metadata": {},
   "outputs": [],
   "source": [
    "scaler = StandardScaler(with_mean = False).fit(X_test)\n",
    "X_test = scaler.transform(X_test)"
   ]
  },
  {
   "cell_type": "code",
   "execution_count": 43,
   "metadata": {},
   "outputs": [
    {
     "name": "stdout",
     "output_type": "stream",
     "text": [
      "704414/704414 [==============================] - 611s 867us/step\n",
      "704414/704414 [==============================] - 585s 831us/step\n",
      "[0.24675072574596557, 0.9088859676273305]\n"
     ]
    }
   ],
   "source": [
    "y_pred = model.predict(X_test,verbose = 1)\n",
    "score = model.evaluate(X_test, Y_test,verbose = 1)\n",
    "print(score)"
   ]
  },
  {
   "cell_type": "code",
   "execution_count": null,
   "metadata": {},
   "outputs": [],
   "source": []
  }
 ],
 "metadata": {
  "kernelspec": {
   "display_name": "Python 3",
   "language": "python",
   "name": "python3"
  },
  "language_info": {
   "codemirror_mode": {
    "name": "ipython",
    "version": 3
   },
   "file_extension": ".py",
   "mimetype": "text/x-python",
   "name": "python",
   "nbconvert_exporter": "python",
   "pygments_lexer": "ipython3",
   "version": "3.6.6"
  }
 },
 "nbformat": 4,
 "nbformat_minor": 2
}
