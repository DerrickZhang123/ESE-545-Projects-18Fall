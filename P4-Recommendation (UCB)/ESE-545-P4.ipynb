{
 "cells": [
  {
   "cell_type": "code",
   "execution_count": 1,
   "metadata": {},
   "outputs": [],
   "source": [
    "import numpy as np\n",
    "import pandas as pd\n",
    "import matplotlib.pyplot as plt"
   ]
  },
  {
   "cell_type": "markdown",
   "metadata": {},
   "source": [
    "# Problem 1"
   ]
  },
  {
   "cell_type": "code",
   "execution_count": 7,
   "metadata": {},
   "outputs": [],
   "source": [
    "data_df = pd.read_csv(\"yahoo_ad_clicks.csv\", header = None)  # 32657 rows × 50 columns\n",
    "data = data_df.values"
   ]
  },
  {
   "cell_type": "markdown",
   "metadata": {},
   "source": [
    "# Problem 2"
   ]
  },
  {
   "cell_type": "code",
   "execution_count": 12,
   "metadata": {},
   "outputs": [],
   "source": [
    "def UCB(data):\n",
    "\n",
    "    miu = [0 for i in range(data.shape[0])]\n",
    "    n = [1 for i in range(data.shape[0])]\n",
    "    ucb = [0 for i in range(data.shape[0])]\n",
    "    \n",
    "    max_iter = data.shape[1]\n",
    "    \n",
    "    total_regret = 0\n",
    "    total_regret_list = []\n",
    "    for t in range(1, max_iter):\n",
    "        for i in range(data.shape[0]):\n",
    "            ucb[i] = miu[i] + np.sqrt(2 * np.log(t) / n[i])\n",
    "        j = np.argmax(ucb)\n",
    "        n[j] += 1\n",
    "        \n",
    "        regret = max(miu) - miu[j]\n",
    "        miu[j] += 1/n[j] * (data[j, t] - miu[j])\n",
    "        \n",
    "        total_regret += regret / t\n",
    "        total_regret_list.append(total_regret)\n",
    "    return ucb, total_regret, total_regret_list"
   ]
  },
  {
   "cell_type": "code",
   "execution_count": 13,
   "metadata": {},
   "outputs": [],
   "source": [
    "ucb, total_regret, t_list = UCB(data)"
   ]
  },
  {
   "cell_type": "code",
   "execution_count": 14,
   "metadata": {},
   "outputs": [
    {
     "data": {
      "text/plain": [
       "Text(0, 0.5, 'Regret / t')"
      ]
     },
     "execution_count": 14,
     "metadata": {},
     "output_type": "execute_result"
    },
    {
     "data": {
      "image/png": "[encoded data removed]",
      "text/plain": [
       "<Figure size 432x288 with 1 Axes>"
      ]
     },
     "metadata": {
      "needs_background": "light"
     },
     "output_type": "display_data"
    }
   ],
   "source": [
    "plt.plot(range(len(t_list)), t_list)\n",
    "plt.title(\"Total Regret Curve\")\n",
    "plt.xlabel(\"T\")\n",
    "plt.ylabel(\"Regret / t\")"
   ]
  },
  {
   "cell_type": "markdown",
   "metadata": {},
   "source": [
    "# Problem 3"
   ]
  },
  {
   "cell_type": "code",
   "execution_count": 15,
   "metadata": {},
   "outputs": [],
   "source": [
    "def MW(data, eta):\n",
    "    \n",
    "    regret = np.zeros(data.shape[1] + 1)\n",
    "    reward = np.zeros(data.shape[0])\n",
    "    weights = np.ones(data.shape[0])\n",
    "    \n",
    "    for t in range(1, data.shape[1] + 1):\n",
    "        \n",
    "        probs = weights / sum(weights)\n",
    "        selection = np.random.choice(range(data.shape[0]), p = probs) # select the index\n",
    "        \n",
    "        weights = np.multiply(weights, (1 - eta * (1 - data[:, t - 1])))\n",
    "        \n",
    "        regret[t] = regret[t - 1] + max(reward) - reward[selection]\n",
    "        reward += (data[:, t - 1] - reward) / t\n",
    "    return regret"
   ]
  },
  {
   "cell_type": "code",
   "execution_count": 23,
   "metadata": {},
   "outputs": [],
   "source": [
    "regret = MW(data, 0.022)"
   ]
  },
  {
   "cell_type": "code",
   "execution_count": 24,
   "metadata": {},
   "outputs": [
    {
     "data": {
      "text/plain": [
       "Text(0, 0.5, 'Regret')"
      ]
     },
     "execution_count": 24,
     "metadata": {},
     "output_type": "execute_result"
    },
    {
     "data": {
      "image/png": "[encoded data removed]",
      "text/plain": [
       "<Figure size 432x288 with 1 Axes>"
      ]
     },
     "metadata": {
      "needs_background": "light"
     },
     "output_type": "display_data"
    }
   ],
   "source": [
    "plt.plot(range(len(regret)), regret)\n",
    "plt.title(\"Total Regret Curve\")\n",
    "plt.xlabel(\"T\")\n",
    "plt.ylabel(\"Regret\")"
   ]
  },
  {
   "cell_type": "code",
   "execution_count": null,
   "metadata": {},
   "outputs": [],
   "source": []
  }
 ],
 "metadata": {
  "kernelspec": {
   "display_name": "Python 3",
   "language": "python",
   "name": "python3"
  },
  "language_info": {
   "codemirror_mode": {
    "name": "ipython",
    "version": 3
   },
   "file_extension": ".py",
   "mimetype": "text/x-python",
   "name": "python",
   "nbconvert_exporter": "python",
   "pygments_lexer": "ipython3",
   "version": "3.7.0"
  }
 },
 "nbformat": 4,
 "nbformat_minor": 2
}
